{
 "cells": [
  {
   "cell_type": "markdown",
   "metadata": {},
   "source": [
    "# Chapter 2 - Workflow: Basics\n",
    "\n",
    "Variable names in R must start with a letter and can contain only letters, numbers, _, and .\n",
    "\n",
    "Loose convention: use snake_case\n",
    "\n",
    "Power operator is ^"
   ]
  },
  {
   "cell_type": "markdown",
   "metadata": {},
   "source": []
  }
 ],
 "metadata": {
  "kernelspec": {
   "display_name": "R",
   "language": "R",
   "name": "ir"
  },
  "language_info": {
   "name": "R"
  }
 },
 "nbformat": 4,
 "nbformat_minor": 2
}
