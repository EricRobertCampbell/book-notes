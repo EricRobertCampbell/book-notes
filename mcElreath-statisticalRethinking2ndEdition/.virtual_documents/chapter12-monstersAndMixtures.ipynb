


library(rethinking)
library(ggplot2)
library(gtools)
library(repr)

options(repr.plot.width = 16, repr.plot.height = 8)


data(UCBadmit)

d <- UCBadmit
d$gid <- ifelse(d$applicant.gender == 'male', 1L, 2L)
dat <- list(A = d$admit, N = d$applications, gid = d$gid)
m12.1 <- ulam(
    alist(
        A ~ dbetabinom(N, pbar, theta),
        logit(pbar) <- a[gid],
        a[gid] ~ dnorm(0, 1.5),
        transpars> theta <<- phi + 2,
        phi ~ dexp(1)
    ),
    data = dat,
    chains = 4
)


# looking at the contrast first
post <- extract.samples(m12.1)
post$da <- post$a[,1] - post$a[,2]
precis(post, depth=2)





# female curves
gid <- 2
ps <- seq(0, 1, length.out = 100)

mean_curve <- data.frame(
    x = ps,
    y = dbeta2(ps, mean(logistic(post$a[,gid])), mean(post$theta))
)

graph <- ggplot() +
    geom_line(data = mean_curve, mapping = aes(x, y), linewidth = 2)

# now add some distributions sampled from the posterior
for (i in 1:50) {
    p <- logistic(post$a[i, gid])
    theta <- post$theta[i]
    sample_curve_data <- data.frame(
        x = ps,
        y = dbeta2(ps, p, theta)
    )
    graph <- graph +
        geom_line(data = sample_curve_data, mapping = aes(x, y), alpha = 0.2)
}

print(graph)





par(bg = 'white')
postcheck(m12.1)





data(Kline)
d <- Kline
d$P <- standardize(log(d$population))
d$contact_id <- ifelse(d$contact == 'high', 2L, 1L)

data2 <- list(
    T = d$total_tools,
    P = d$population,
    cid = d$contact_id
)

m12.2 <- ulam(
    alist(
        T ~ dgampois(lambda, phi),
        lambda <- exp(a[cid]) * P ^ b[cid] / g,
        a[cid] ~ dnorm(1,1),
        b[cid] ~ dexp(1),
        g ~ dexp(1),
        phi ~ dexp(1)
    ),
    data = data2,
    chains = 4,
    log_lik = TRUE
)





prob_drink <- 0.2
rate_work <- 1 # average of 1 manuscript per day

# one year
N <- 365

set.seed(365)
drink <- rbinom(N, 1, prob_drink)

# simulate maniscripts produced and total
manuscripts_worked <- rpois(N, rate_work)

y <- (1 - drink) * manuscripts_worked


m12.3 <- ulam(
    alist(
        y ~ dzipois(p, lambda),
        logit(p) <- ap,
        log(lambda) <- al,
        ap ~ dnorm(-1.5, 1),
        al ~ dnorm(1, 0.5)
    ),
    data=list(y = y),
    chains = 4
)
precis(m12.3)


# posterior means on the natural scale
post <- extract.samples(m12.3)
post_p <- mean(inv_logit(post$ap))
post_lambda <- mean(exp(post$al))
print(post_p)
print(post_lambda)





data(Trolley)
d <- Trolley
head(d)





ggplot(d, aes(response)) +
    geom_histogram()





# proportion of each response
pr_k <- table(d$response) / nrow(d)

# cumsum to convert to cumulative proportions
cum_pr_k <- cumsum( pr_k )

ggplot(data.frame(x = 1:7, y = cum_pr_k), aes(x, y)) +
    geom_point() +
    geom_line()





logit <- function(x) log(x / (1 - x))
round(lco <- logit(cum_pr_k), 2)








m12.4 <- ulam(
    alist(
        R ~ dordlogit(0, cutpoints),
        cutpoints ~ dnorm(0, 1.5)
    ),
    data = list(R = d$response),
    chains = 4,
    cores = 4
)


precis(m12.4, depth=2)


# get the cumulative probabilities back
round(inv_logit(coef(m12.4)), 3)





round(pk <- dordlogit(1:7, 0, coef(m12.4)), 2)


# average outcome
sum(pk * 1:7)


# subtract off 0.5
round(pk <- dordlogit(1:7, 0, coef(m12.4) - 0.5), 2)


# new average
sum(pk * 1:7)





dat <- list(
    R = d$response,
    A = d$action,
    I = d$intention,
    C = d$contact
)

m12.5 <- ulam(
    alist(
        R ~ dordlogit(phi, cutpoints),
        phi <- bA * A + bC * C + BI * I,
        BI <- bI + bIA * A + bIC * C,
        c(bA, bI, bC, bIA, bIC) ~ dnorm(0, 0.5),
        cutpoints ~ dnorm(0, 1.5)
    ),
    data = dat,
    chains = 4,
    cores = 4
)
precis(m12.5)





par(bg='white')
plot(precis(m12.5), xlim=c(-1.4, 0))





par(bg='white')
plot(NULL, type="n", xlab="intention", ylab="probability", xlim=c(0, 1), ylim=c(0, 1), xaxp=c(0, 1, 1), yaxp=c(0, 1, 2))

# set up the data list that contains the different combinations of predictors.
kA <- 0 # action
kC <- 0 # contact
kI <- 0:1 # intention
pdat <- data.frame(A = kA, C = kC, I = kI)

# pass it to link to get the phi samples
phi <- link(m12.5, data = pdat)$phi

# loop over the first 50 samples and plot their predictions across values of intention
# Trick is to use `pordlogit` to compute the cumulative probability use the sampes in phi and the cutpoints
post <- extract.samples(m12.5)
for (s in 1:50) {
    pk <- pordlogit(1:6, phi[s, ], post$cutpoints[s,])
    for (i in 1:6) {
        lines(kI, pk[, i], col=grau(0.1))
    }
}





par(bg='white')
kA <- 0
kC <- 1
kI <- 0:1
pdat <- data.frame(A = kA, C = kC, I = kI)
s <- sim(m12.5, data = pdat)
simplehist(s, xlab = "Response")








levels(d$edu)





# This is actually us replacing the text of the level with the numerical representation
edu_levels <- c(6, 1, 8, 4, 7, 2, 5, 3)
d$edu_new <- edu_levels[d$edu]
d$edu_new





set.seed(1805)
delta <- rdirichlet(10, alpha = rep(2, 7))
delta





plot_df <- data.frame(x = integer(), p = numeric(), group = integer())
for (i in 1:nrow(delta)) {
    plot_df <- rbind(plot_df, data.frame(
        x = 1:7,
        p = delta[i, ],
        group = i
    ))
}
head(plot_df)


ggplot(plot_df, aes(x, p, group = group)) +
    geom_point() +
    geom_line(aes(linewidth = group == 3)) 





dat <- list(
    R = d$response,
    action = d$action,
    intention = d$intention,
    contact = d$contact,
    E = as.integer(d$edu_new), # this is an index
    alpha = rep(2, 7) # delta prior
)

m12.6 <- ulam(
    alist(
        R ~ ordered_logistic(phi, kappa),
        phi <- bE * sum(delta_j[1:E]) + bA * action + bI * intention + bC * contact,
        kappa ~ normal(0, 1.5),
        c(bA, bI, bC, bE) ~ normal(0, 1),
        vector[8]: delta_j <<- append_row(0, delta),
        simplex[7]: delta ~ dirichlet(alpha)
    ),
    data = dat,
    chains = 4,
    cores = 4
)





precis(m12.6, depth = 2, omit = "kappa")





par(bg = 'white')
options(repr.plot.width = 16, repr.plot.height = 10)
delta_labels <- c("Elem", "MidSch", "SHS", "SCol", "Bach", "Mast", "Grad")
pairs(m12.6, pars = "delta", labels = delta_labels)





dat$edu_norm <- normalize(d$edu_new)
m12.7 <- ulam(
    alist(
        R ~ ordered_logistic(mu, cutpoints),
        mu <- bE * edu_norm + bA * action + bI * intention + bC * contact,
        c(bA, bI, bC, bE) ~ normal(0, 1),
        cutpoints ~ normal(0, 1.5)
    ),
    data = dat,
    chains = 4,
    cores = 4
)


precis(m12.7)























odds <- function(p) p / (1 - p)
log_odds <- function(p) log(odds(p))
cumulative_log_odds <- function(counts, i) log_odds(sum(counts[1:i]) / sum(counts))

ratings <- c(12, 36, 7, 41)
for (i in 1:length(ratings)) {
    print(paste(i, cumulative_log_odds(ratings, i)))
}





plot_df <- data.frame(
    rating = 1:4,
    count = ratings,
    proportion = ratings / sum(ratings),
    cumulative = cumsum(ratings / sum(ratings)),
    prev = cumsum(ratings / sum(ratings)) - ratings / sum(ratings)
)

jitter_offset = 0.05
ggplot(plot_df, aes(rating)) +
    geom_line(aes(y = cumulative)) +
    geom_segment(mapping = aes(y = 0, xend = rating, yend = cumulative)) +
    geom_point(aes(y = cumulative), shape = 21, size = 5, fill = 'white') +
    geom_segment(mapping = aes(x = rating + jitter_offset, y = prev, xend = rating + jitter_offset, yend = cumulative), colour = 'blue', linewidth = 2)








data(Hurricanes)
d <- Hurricanes
head(d)
summary(d)


?Hurricanes


ggplot(d, aes(year, min_pressure)) +
    geom_point(aes(size = deaths))


p <- ggplot(d, aes(femininity, deaths)) +
    geom_point()
print(p)


# priors
# initial model is deaths ~ Poisson(lambda), log(lambda) ~ alpha

# figuring out lambda - find the mean number of deaths
mean_deaths <- mean(d$deaths)
log_mean_deaths <- log(mean_deaths)
sd_deaths <- sd(d$deaths)

ALPHA_PRIOR_MEAN <- log_mean_deaths
ALPHA_PRIOR_SD <- 2

NUM_SAMPLES <- 1e1
alpha <- rnorm(NUM_SAMPLES, ALPHA_PRIOR_MEAN, ALPHA_PRIOR_SD)
lambda <- exp(alpha)
for (i in 1:NUM_SAMPLES) {
    predicted_deaths <- rpois(1, lambda[i])
    femininities <- seq(1, 11, length.out = 25)
    p <- p + geom_line(data = data.frame(femininity = femininities, deaths = predicted_deaths))
}
print(p)





p <- ggplot(d, aes(femininity, deaths)) +
    geom_point()

BETA_F_PRIOR_MEAN <- 0
BETA_F_PRIOR_SD <- 0.05

NUM_SAMPLES <- 1e1
alpha <- rnorm(NUM_SAMPLES, ALPHA_PRIOR_MEAN, ALPHA_PRIOR_SD)
beta_f <- rnorm(NUM_SAMPLES, BETA_F_PRIOR_MEAN, BETA_F_PRIOR_SD)
femininities <- seq(1, 11, length.out = 25)
for (i in 1:NUM_SAMPLES) {
    # just go with the mean for now
    log_predicted_deaths <- alpha[i] + beta_f[i] * femininities
    predicted_deaths <- exp(log_predicted_deaths)
    p <- p + geom_line(data = data.frame(femininity = femininities, deaths = predicted_deaths))
}
print(p)



# intercept-only Poisson
hurricane_data <- list(
    deaths = d$deaths,
    femininity = d$femininity,
    ALPHA_PRIOR_MEAN = ALPHA_PRIOR_MEAN,
    ALPHA_PRIOR_SD = ALPHA_PRIOR_SD
)
m12h1.intercept <- ulam(
    alist(
        deaths ~ dpois(lambda),
        log(lambda) <- alpha,
        alpha ~ dnorm(ALPHA_PRIOR_MEAN, ALPHA_PRIOR_SD)
    ),
    data = hurricane_data,
    log_lik = TRUE
)

pre <- precis(m12h1.intercept)


par(bg = 'white')
print(pre)
plot(pre)


# intercept and slope Poisson
hurricane_data <- list(
    deaths = d$deaths,
    femininity = d$femininity,
    ALPHA_PRIOR_MEAN = ALPHA_PRIOR_MEAN,
    ALPHA_PRIOR_SD = ALPHA_PRIOR_SD,
    BETA_F_PRIOR_MEAN = BETA_F_PRIOR_MEAN,
    BETA_F_PRIOR_SD = BETA_F_PRIOR_SD
)
m12h1.intercept_slope <- ulam(
    alist(
        deaths ~ dpois(lambda),
        log(lambda) <- alpha + bf * femininity,
        alpha ~ dnorm(ALPHA_PRIOR_MEAN, ALPHA_PRIOR_SD),
        bf ~ dnorm(BETA_F_PRIOR_MEAN, BETA_F_PRIOR_SD)
    ),
    data = hurricane_data,
    log_lik = TRUE
)
pre.slope <- precis(m12h1.intercept_slope)


par(bg = 'white')
print(pre.slope)
plot(pre.slope)





compare(m12h1.intercept, m12h1.intercept_slope)





femininity_sims <- list(femininity = seq(1, 11, length.out = 100))
simulated_deaths <- link(m12h1.intercept_slope, data = femininity_sims)
simulated_deaths


mean_simulated_deaths <- apply(simulated_deaths, 2, mean)
bounds_simulated_deaths <- apply(simulated_deaths, 2, function(col) PI(col, prob = 0.95))
simulated_df <- data.frame(
    femininity = femininity_sims$femininity,
    mean = mean_simulated_deaths,
    lower = bounds_simulated_deaths[1, ],
    upper = bounds_simulated_deaths[2, ]
)


base_plot <- ggplot(d, aes(femininity)) +
    geom_point(aes(y = deaths))
base_plot +
    geom_line(data = simulated_df, mapping = aes(femininity, mean)) +
    geom_ribbon(data = simulated_df, mapping = aes(femininity, ymin = lower, ymax = upper), alpha = 0.2)








m12h2 <- ulam(
    alist(
        deaths ~ dgampois(lambda, phi),
        log(lambda) <- alpha + bf * femininity,
        alpha ~ dnorm(ALPHA_PRIOR_MEAN, ALPHA_PRIOR_SD),
        bf ~ dnorm(BETA_F_PRIOR_MEAN, BETA_F_PRIOR_SD),
        phi ~ dexp(1)
    ),
    data = hurricane_data,
    log_lik = TRUE
)


precis(m12h2)
par(bg = 'white')
plot(precis(m12h2))



femininity_sims <- list(femininity = seq(1, 11, length.out = 100))
simulated_deaths <- link(m12h2, data = femininity_sims)
mean_simulated_deaths <- apply(simulated_deaths, 2, mean)
bounds_simulated_deaths <- apply(simulated_deaths, 2, function(col) PI(col, prob = 0.95))
simulated_df <- data.frame(
    femininity = femininity_sims$femininity,
    mean = mean_simulated_deaths,
    lower = bounds_simulated_deaths[1, ],
    upper = bounds_simulated_deaths[2, ]
)
base_plot +
    geom_line(data = simulated_df, mapping = aes(femininity, mean)) +
    geom_ribbon(data = simulated_df, mapping = aes(femininity, ymin = lower, ymax = upper), alpha = 0.2)








# first, let's normalize the data
d$f <- standardize(d$femininity)
d$damage <- standardize(d$damage_norm)
d$min_p <- standardize(d$min_pressure)


ggplot(d, aes(f, deaths)) +
    geom_point()


# need to re-figure out the priors

# figuring out lambda - find the mean number of deaths
mean_deaths <- mean(d$deaths)
log_mean_deaths <- log(mean_deaths)
sd_deaths <- sd(d$deaths)

ALPHA_PRIOR_MEAN <- log_mean_deaths
ALPHA_PRIOR_SD <- 1.2

NUM_SAMPLES <- 1e2
alpha <- rnorm(NUM_SAMPLES, ALPHA_PRIOR_MEAN, ALPHA_PRIOR_SD)
lambda <- exp(alpha)
p <- ggplot(d) +
    geom_point(mapping = aes(f, deaths))
femininities <- seq(-2, 2, length.out = 25)
for (i in 1:NUM_SAMPLES) {
    predicted_deaths <- rpois(1, lambda[i])
    p <- p + geom_line(data = data.frame(femininity = femininities, deaths = predicted_deaths), mapping = aes(femininity, deaths), alpha = 0.2)
}
print(p)





p <- ggplot(d, aes(f, deaths)) +
    geom_point()

BETA_F_PRIOR_MEAN <- 0
BETA_F_PRIOR_SD <- 0.5

NUM_SAMPLES <- 1e2
alpha <- rnorm(NUM_SAMPLES, ALPHA_PRIOR_MEAN, ALPHA_PRIOR_SD)
beta_f <- rnorm(NUM_SAMPLES, BETA_F_PRIOR_MEAN, BETA_F_PRIOR_SD)
femininities <- seq(-2, 2, length.out = 25)
for (i in 1:NUM_SAMPLES) {
    # just go with the mean for now
    log_predicted_deaths <- alpha[i] + beta_f[i] * femininities
    predicted_deaths <- exp(log_predicted_deaths)
    p <- p + geom_line(data = data.frame(f = femininities, deaths = predicted_deaths), alpha = 0.2)
}
print(p)





interaction_data <- list(
    deaths = d$deaths,
    f = d$f,
    min_p = d$min_p,
    damage = d$damage,
    ALPHA_PRIOR_MEAN = ALPHA_PRIOR_MEAN,
    ALPHA_PRIOR_SD = ALPHA_PRIOR_SD,
    BETA_F_PRIOR_MEAN = BETA_F_PRIOR_MEAN,
    BETA_F_PRIOR_SD = BETA_F_PRIOR_SD
)

m12h3.interaction.damage <- ulam(
    alist(
        deaths ~ dgampois(lambda, phi),
        log(lambda) <- alpha + bf * f + bd * damage + bfd * f * damage,
        alpha ~ dnorm(ALPHA_PRIOR_MEAN, ALPHA_PRIOR_SD),
        c(bf, bd, bfd) ~ dnorm(BETA_F_PRIOR_MEAN, BETA_F_PRIOR_SD),
        phi ~ dexp(1)
    ),
    data = interaction_data,
    log_lik = TRUE
)

m12h3.interaction.pressure <- ulam(
    alist(
        deaths ~ dgampois(lambda, phi),
        log(lambda) <- alpha + bf * f + bp * min_p + bfp * f * min_p,
        alpha ~ dnorm(ALPHA_PRIOR_MEAN, ALPHA_PRIOR_SD),
        c(bf, bp, bfp) ~ dnorm(BETA_F_PRIOR_MEAN, BETA_F_PRIOR_SD),
        phi ~ dexp(1)
    ),
    data = interaction_data,
    log_lik = TRUE
)

m12h3.interaction.both <- ulam(
    alist(
        deaths ~ dgampois(lambda, phi),
        log(lambda) <- alpha + bf * f + bp * min_p + bd * damage + bfp * f * min_p + bfd * f * damage + bfdp * f * damage * min_p,
        alpha ~ dnorm(ALPHA_PRIOR_MEAN, ALPHA_PRIOR_SD),
        c(bf, bp, bd, bfp, bfd, bfdp) ~ dnorm(BETA_F_PRIOR_MEAN, BETA_F_PRIOR_SD),
        phi ~ dexp(1)
    ),
    data = interaction_data,
    log_lik = TRUE
)


precis(m12h3.interaction.damage)
precis(m12h3.interaction.pressure)
precis(m12h3.interaction.both)


par(bg = 'white')
plot(precis(m12h3.interaction.damage))
plot(precis(m12h3.interaction.pressure))
plot(precis(m12h3.interaction.both))





compare(m12h3.interaction.both, m12h3.interaction.damage, m12h3.interaction.pressure, func = PSIS)





NUM_SAMPLES <- 100
damage_seq <- seq(-2, 2, length.out = NUM_SAMPLES)
pressure_seq <- seq(-2, 2, length.out = NUM_SAMPLES)

male_storm_data <- list(
    damage = rep(0, NUM_SAMPLES),
    min_p = pressure_seq,
    f = rep(-1, NUM_SAMPLES)
)
male_storm_prediction <- link(m12h3.interaction.both, data = male_storm_data)
mean_male_death <- apply(male_storm_prediction, 2, mean)
bounds_male_death <- apply(male_storm_prediction, 2, PI)

female_storm_data <- list(
    damage = rep(0, NUM_SAMPLES),
    min_p = pressure_seq,
    f = rep(1, NUM_SAMPLES)
)
female_storm_prediction <- link(m12h3.interaction.both, data = female_storm_data)
mean_female_death <- apply(female_storm_prediction, 2, mean)
bounds_female_death <- apply(female_storm_prediction, 2, PI)


ggplot(d, aes(min_p)) +
    geom_point(mapping = aes(y = deaths)) +
    # male storms
    geom_line(data = data.frame(min_p = pressure_seq, deaths = mean_male_death), mapping = aes(min_p, deaths, colour = "M")) +
    geom_ribbon(data = data.frame(min_p = pressure_seq, death_min = bounds_male_death[1, ], death_max = bounds_male_death[2, ]), mapping = aes(x = min_p, ymin = death_min, ymax = death_max, fill = "M"), alpha = 0.2) +
    # female storms
    geom_line(data = data.frame(min_p = pressure_seq, deaths = mean_female_death), mapping = aes(min_p, deaths, colour = "F")) +
    geom_ribbon(data = data.frame(min_p = pressure_seq, death_min = bounds_female_death[1, ], death_max = bounds_female_death[2, ]), mapping = aes(x = min_p, ymin = death_min, ymax = death_max, fill = "F"), alpha = 0.2)








head(d)


d$l_damage_norm <- log(d$damage_norm)
d$n_l_damage_norm <- standardize(d$l_damage_norm)
summary(d$n_l_damage_norm)
d$n_l_damage_norm


interaction_data[['log_damage']] <- d$n_l_damage_norm

m12h3.interaction.both.log_norm_damage <- ulam(
    alist(
        deaths ~ dgampois(lambda, phi),
        log(lambda) <- alpha + bf * f + bp * min_p + bd * log_damage + bfp * f * min_p + bfd * f * log_damage + bfdp * f * log_damage * min_p,
        alpha ~ dnorm(ALPHA_PRIOR_MEAN, ALPHA_PRIOR_SD),
        c(bf, bp, bd, bfp, bfd, bfdp) ~ dnorm(BETA_F_PRIOR_MEAN, BETA_F_PRIOR_SD),
        phi ~ dexp(1)
    ),
    data = interaction_data,
    log_lik = TRUE
)


precis(m12h3.interaction.both.log_norm_damage)
par(bg = 'white')
plot(precis(m12h3.interaction.both.log_norm_damage))





compare(m12h3.interaction.both, m12h3.interaction.both.log_norm_damage)











data(Trolley)
d <- Trolley
head(d)



dat <- list(
    R = d$response,
    A = d$action,
    I = d$intention,
    C = d$contact,
    Gid = ifelse(d$male == 0, 1L, 2L) # index - 1 for male, 2 for female
)
lapply(dat, head)
dat$Gid


m12h5 <- ulam(
    alist(
        R ~ dordlogit(phi, cutpoints),
        phi <- bA[Gid] * A + bC[Gid] * C + BI * I,
        BI <- bI + bIA[Gid] * A + bIC[Gid] * C,
        bI ~ dnorm(0, 0.5),
        bA[Gid] ~ dnorm(0, 0.5),
        bC[Gid] ~ dnorm(0, 0.5),
        bIC[Gid] ~ dnorm(0, 0.5),
        bIA[Gid] ~ dnorm(0, 0.5),
        cutpoints ~ dnorm(0, 1.5)
    ),
    data = dat,
    chains = 4,
    cores = 4
)


prec <- precis(m12h5, depth = 2)

print(prec)
par(bg = 'white')
plot(prec)








data(Fish)
d <- Fish
head(d)


summary(d)


?Fish


ggplot(d, aes(fish_caught)) +
    geom_histogram()


ggplot(d, aes(hours, fish_caught)) +
    geom_point()





data <- list(
    f = d$fish_caught,
    log_hours = log(d$hours)
)
m12h6.1 <- ulam(
    alist(
        f ~ dzipois(p, lambda),
        logit(p) ~ dnorm(0, 1),
        log(lambda) <- log_hours + a,
        a ~ dnorm(0, 1)
    ),
    data = data,
    log_lik = TRUE
)


prec <- precis(m12h6.1)
print(prec)
par(bg = 'white')
plot(prec)


hours_sim <- seq(1, 50, length.out = 100)
preds <- link(m12h6.1, data = list(log_hours=(log(hours_sim))))
preds


means <- apply(preds, 2, mean)
bounds <- apply(preds, 2, PI)

plot_df <- data.frame(hours = hours_sim, mean = means, lower = bounds[1, ], upper = bounds[2, ])
ggplot(plot_df, aes(hours)) +
    geom_point(data = d, aes(hours, fish_caught)) +
    geom_line(mapping = aes(y = mean)) +
    geom_ribbon(data = plot_df, aes(hours, ymin = lower, ymax = upper), alpha = 0.2)





head(d)


data <- list(
    f = d$fish_caught,
    log_hours = log(d$hours),
    livebait_index = d$livebait + 1,
    camper_index = d$camper + 1,
    adults = d$persons - d$child,
    children = d$child
)

m12h6.2 <- ulam(
    alist(
        f ~ dzipois(p, lambda),
        logit(p) <- bc[camper_index],
        log(lambda) <- log_hours + a[livebait_index] + b_adult * adults + b_child * children,
        bc[camper_index] ~ dnorm(0, 1),
        a[livebait_index] ~ dnorm(0, 1),
        c(b_adult, b_child) ~ dnorm(0, 1)
    ),
    data = data,
    log_lik = TRUE
)


pre <- precis(m12h6.2, depth = 2)
print(pre)
par(bg = 'white')
plot(pre)


compare(m12h6.1, m12h6.2)





child_data <- list(
    log_hours = log(24),
    livebait_index = 1,
    camper_index = 1,
    adults = 0,
    children = 1
)
adult_data <- list(
    log_hours = log(24),
    livebait_index = 1,
    camper_index = 1,
    adults = 1,
    children = 0
)

l_child <- link(m12h6.2, data = child_data)
child_counts <- rbern(length(l_child$p), l_child$p) * rpois(length(l_child$lambda), l_child$lambda)
l_adult <- link(m12h6.2, data = adult_data)
adult_counts <- rbern(length(l_adult$p), l_adult$p) * rpois(length(l_adult$lambda), l_adult$lambda)

plot_df <- rbind(
    data.frame(count = child_counts, type = "Child"),
    data.frame(count = adult_counts, type = "Adult")
)

ggplot(plot_df, aes(count, colour = type, fill = type)) +
    geom_bar(position = 'dodge')









