


library(rethinking)
library(ggplot2)
library(rstan)

options(mc.cores = parallel::detectCores())
rstan_options(auto_write = TRUE)

options(repr.plot.width = 17, repr.plot.height = 8)


data(reedfrogs)
d <- reedfrogs
str(d)





# tank cluster variable
d$tank <- 1:nrow(d)

dat <- list(
    S = d$surv,
    N = d$density,
    tank = d$tank
)

m13.1 <- ulam(
    alist(
        S ~ dbinom(N, p),
        logit(p) <- a[tank],
        a[tank] ~ dnorm(0, 1.5)
    ),
    data = dat,
    chains = 4,
    log_lik = TRUE
)


par(bg = 'white')
precis(m13.1, depth = 2)
plot(precis(m13.1, depth = 2))





m13.2 <- ulam(
    alist(
        S ~ dbinom(N, p),
        logit(p) <- a[tank],
        a[tank] ~ dnorm(a_bar, sigma),
        a_bar ~ dnorm(0, 1.5),
        sigma ~ dexp(1)
    ),
    data = dat,
    chains = 4,
    log_lik = TRUE
)


compare(m13.1, m13.2)





# extract some data
post <- extract.samples(m13.2)

# mean intercept for each tank
d$propsurv.est <- logistic(apply(post$a, 2, mean))


plot_df <- data.frame(
    tank = d$tank,
    survival = d$propsurv,
    label = "Empirical"
)
plot_df <- rbind(plot_df,
    data.frame(
        tank = d$tank,
        survival = d$propsurv.est,
        label = "Mean Estimate"
    )
)
ggplot(plot_df) +
    geom_point(mapping = aes(tank, survival, colour = label)) +
    geom_hline(aes(yintercept = mean(inv_logit(post$a_bar)) )) +
    annotate('label', x = 42, y = 0.75, label = "Mean Survival Probability") +
    geom_vline(aes(xintercept = 16.5)) + 
    annotate('label', x = 8, y = 0, label = 'Small Tanks') +
    geom_vline(aes(xintercept = 32.5)) +
    annotate('label', x = 24, y = 0, label = 'Medium Tanks') +
    annotate('label', x = 40, y = 0, label = 'Large Tanks')





# log-odds of survival
x <- seq(-3, 4, length.out = 100)
plot_df <- data.frame(x = numeric(), y = numeric(), distribution_number = integer())
for (i in 1:100) {
    mu <- post$a_bar[i]
    sigma <- post$sigma[i]
    plot_df <- rbind(plot_df, data.frame(x = x, y = dnorm(x, mu, sigma), distribution_number = i))
}
plot_df$distribution_number <- factor(plot_df$distribution_number)

ggplot(plot_df, aes(x, y, group = distribution_number)) +
    geom_line(alpha = 0.5) +
    labs(y = "Density", x = "Log-odds of survival")


# now the actual probabilities
simulated_tanks <- rnorm(8000, post$a_bar, post$sigma)

plot_df <- data.frame(p = inv_logit(simulated_tanks))

ggplot(plot_df) +
    geom_density(aes(p), adjust = 0.1)





a_bar <- 1.5
sigma <- 1.5
Ni <- as.integer(rep(c(5, 10, 25, 35), each = 15))
nponds <- length(Ni) # 15 * 4 -> 60

# now we simulate the intercept for each pond
set.seed(5005)
a_pond <- rnorm(nponds, mean = a_bar, sd = sigma)

# put it in a data frame
dsim <- data.frame(
    pond = 1:nponds,
    Ni = Ni,
    true_a = a_pond
)

dsim





dsim$Si <- rbinom(nponds, prob = logistic(dsim$true_a), size=dsim$Ni)





dsim$p_nopool <- dsim$Si / dsim$Ni





dat <- list(
    Si = dsim$Si,
    Ni = dsim$Ni,
    pond = dsim$pond
)

m13.3 <- ulam(
    alist(
        Si ~ dbinom(Ni, p),
        logit(p) <- a_pond[pond],
        a_pond[pond] ~ dnorm(a_bar, sigma),
        a_bar ~ dnorm(0, 1.5),
        sigma ~ dexp(1)
    ),
    data = dat,
    chains = 4
)


precis(m13.3, depth=2)





post <- extract.samples(m13.3)
dsim$p_partpool <- apply(inv_logit(post$a_pond), 2, mean)

# we'll also need the true p value for each pond
dsim$p_true <- inv_logit(dsim$true_a)

# no we calculate the error for each of the different methods
nopool_error <- abs(dsim$p_nopool - dsim$p_true)
partpool_error <- abs(dsim$p_partpool - dsim$p_true)


plot_df <- rbind(
    data.frame(
        tank = 1:length(nopool_error),
        error = nopool_error,
        type = "No Pooling"
    ),
    data.frame(
        tank = 1:length(partpool_error),
        error = partpool_error,
        type = "Partial Pooling"
    )
)

ggplot(plot_df, aes(tank, error, colour = type)) +
    geom_point() +
    labs(x = "Tank", y = "Absolute Error", colour = "Type") 






nopool_avg <- aggregate(nopool_error, list(dsim$Ni), mean)
partpool_avg <- aggregate(partpool_error, list(dsim$Ni), mean)

nopool_avg
partpool_avg








data(chimpanzees)
d <- chimpanzees
d$treatment <- 1 + d$prosoc_left + 2 * d$condition

dat_list <- list(
    pulled_left = d$pulled_left,
    actor = d$actor,
    block_id = d$block,
    treatment = as.integer(d$treatment)
)

set.seed(13)
m13.4 <- ulam(
    alist(
        pulled_left ~ dbinom(1, p),
        logit(p) <- a[actor] + g[block_id] + b[treatment],
        b[treatment] ~ dnorm(0, 0.5),
        # adaptive priors
        a[actor] ~ dnorm(a_bar, sigma_a),
        g[block_id] ~ dnorm(0, sigma_g),
        # hyper priors
        a_bar ~ dnorm(0, 1.5),
        sigma_a ~ dexp(1),
        sigma_g ~ dexp(1)
    ),
    data = dat_list,
    chains = 4,
    cores = 4,
    log_lik = TRUE
)





par(bg = 'white')
precis(m13.4, depth = 2)
plot(precis(m13.4, depth = 2))





set.seed(14)
m13.5 <- ulam(
    alist(
        pulled_left ~ dbinom(1, p),
        logit(p) <- a[actor] + b[treatment],
        b[treatment] ~ dnorm(0, 0.5),
        # adaptive priors
        a[actor] ~ dnorm(a_bar, sigma_a),
        # hyper priors
        a_bar ~ dnorm(0, 1.5),
        sigma_a ~ dexp(1)
    ),
    data = dat_list,
    chains = 4,
    cores = 4,
    log_lik = TRUE
)


compare(m13.4, m13.5)





set.seed(15)
m13.6 <- ulam(
    alist(
        pulled_left ~ dbinom(1, p),
        logit(p) <- a[actor] + g[block_id] + b[treatment],
        # adaptive priors
        a[actor] ~ dnorm(a_bar, sigma_a),
        g[block_id] ~ dnorm(0, sigma_g),
        b[treatment] ~ dnorm(0, sigma_b),
        # hyper priors
        a_bar ~ dnorm(0, 1.5),
        sigma_a ~ dexp(1),
        sigma_g ~ dexp(1),
        sigma_b ~ dexp(1)
    ),
    data = dat_list,
    chains = 4,
    cores = 4,
    log_lik = TRUE
)
coeftab(m13.4, m13.6)





m13.7 <- ulam(
    alist(
        v ~ normal(0, 3),
        x ~ normal(0, exp(v))
    ),
    data = list(N = 1),
    chains = 4
)





traceplot(m13.7)








m13.7nc <- ulam(
    alist(
        v ~ normal(0, 3),
        z ~ normal(0, 1),
        gq > real[1]:x <<- z * exp(v)
    ),
    data = list(N = 1),
    chains = 4
)





precis(m13.7nc)





# original version
m13.4a <- ulam(m13.4, chains = 4, cores = 4, control = list(adapt_delta = 0.95))
divergent(m13.4a)


# increasing the acceptance rate
m13.4b <- ulam(m13.4, chains = 4, cores = 4, control = list(adapt_delta = 0.99))
divergent(m13.4b)





precis(m13.4b, depth = 2)








m13.4nc <- ulam(
    alist(
        pulled_left ~ dbinom(1, p),
        logit(p) <- a_bar + z[actor] * sigma_a + x[block_id] * sigma_g + b[treatment],
        b[treatment] ~ dnorm(0, 0.5),
        z[actor] ~ dnorm(0, 1),
        x[block_id] ~ dnorm(0, 1),
        a_bar ~ dnorm(0, 1.5),
        sigma_a ~ dexp(1),
        sigma_g ~ dexp(1),
        gq> vector[actor]:a <<- a_bar + z * sigma_a,
        gq> vector[block_id]:g <<- x * sigma_g
    ),
    data = dat_list,
    chains = 4,
    cores = 4
)





precis_c <- precis(m13.4, depth = 2)
precis_nc <- precis(m13.4nc, depth = 2)

pars <- c(
    paste("a[", 1:7, "]", sep = ""),
    paste("g[", 1:6, "]", sep = ""),
    paste("b[", 1:4, "]", sep = ""),
    "a_bar", "sigma_a", "sigma_g"
)
# precis_c[, "n_eff"] # results in an error

neff_table <- cbind(precis_c[pars, "n_eff"], precis_nc[pars, "n_eff"])
# for some reason precis no longer has these columns, so none of this works...





chimp <- 2
d_pred <- list(
    actor = rep(chimp, 4),
    treatment = 1:4,
    block_id = rep(1, 4)
)

p <- link(m13.4, data = d_pred)
p_mu <- apply(p, 2, mean)
p_ci <- apply(p, 2, PI)





post <- extract.samples(m13.4)
str(post)


# plotting the density for actor 5
par(bg = 'white')
dens(post$a[, 5])





p_link <- function(treatment, actor = 1, block_id = 1) {
    logodds <- with(post,
        a[, actor] + g[, block_id] + b[, treatment]
    )
    return(inv_logit(logodds))
}


p_raw <- sapply(1:4, function(i) p_link(i, actor = 2, block_id = 1))
p_mu <- apply(p_raw, 2, mean)
p_ci <- apply(p_raw, 2, PI)





p_link_abar <- function(treatment) {
    logodds <- with(post,
        a_bar + b[, treatment]
    )
    return(inv_logit(logodds))
}





post <- extract.samples(m13.4)
p_raw <- sapply(1:4, function(i) p_link_abar(i))
p_mu <- apply(p_raw, 2, mean)
p_ci <- apply(p_raw, 2, PI)

plot_df <- data.frame(
    treatment=c("R/N", "L/N", "R/P", "L/P"),
    mean = p_mu,
    lower = p_ci[1, ],
    upper = p_ci[2, ]
)
plot_df$treatment <- factor(plot_df$treatment, levels = plot_df$treatment)
# plot_df
ggplot(plot_df, aes(treatment, group = 1)) +
    geom_line(aes(y = mean)) +
    geom_ribbon(aes(ymin = lower, ymax = upper), alpha = 0.2)





a_sim <- with(post,
    rnorm(length(post$a_bar), a_bar, sigma_a)
)
p_link_asim <- function(treatment) {
    logodds <- with(post,
        a_sim + b[, treatment]
    )
    return(inv_logit(logodds))
}
p_raw_asim <- sapply(1:4, function(treatment) p_link_asim(treatment))


p_mu <- apply(p_raw_asim, 2, mean)
p_ci <- apply(p_raw_asim, 2, PI)

plot_df <- data.frame(
    treatment=c("R/N", "L/N", "R/P", "L/P"),
    mean = p_mu,
    lower = p_ci[1, ],
    upper = p_ci[2, ]
)
plot_df$treatment <- factor(plot_df$treatment, levels = plot_df$treatment)
# plot_df
ggplot(plot_df, aes(treatment, group = 1)) +
    geom_line(aes(y = mean)) +
    geom_ribbon(aes(ymin = lower, ymax = upper), alpha = 0.2) +
    labs(title = "Marginal of Actors")





plot_df <- data.frame(
    treatment= character(),
    p = numeric(),
    actor = integer()
)

for (i in 1:100) {
    plot_df <- rbind(plot_df,
        data.frame(
            treatment = c("R/N", "L/N", "R/P", "L/P"),
            p = p_raw_asim[i, ],
            actor = i
        )
    )
}
plot_df$treatment <- factor(plot_df$treatment, levels = c("R/N", "L/N", "R/P", "L/P"))

ggplot(plot_df, aes(treatment, p, group = actor)) +
    geom_line()








data(reedfrogs)
d <- reedfrogs
str(d)





d$tank <- 1:nrow(d)

dat <- list(
    S = d$surv,
    N = d$density,
    tank = d$tank
)
m13m1.1 <- ulam(
    alist(
        S ~ dbinom(N, p),
        logit(p) <- a[tank],
        a[tank] ~ dnorm(a_bar, sigma),
        a_bar ~ dnorm(0, 1.5),
        sigma ~ dexp(1)
    ),
    data = dat,
    chains = 4,
    log_lik = TRUE
)





d$pred_index <- ifelse(d$pred == 'no', 1L, 2L)
d$size_index <- ifelse(d$size == 'small', 1L, 2L)
d$pred_size_index <- 2 * (d$pred_index - 1) + (d$size_index - 1) + 1

summary(d)





dat <- list(
    S = d$surv,
    N = d$density,
    tank = d$tank,
    pred_index = d$pred_index,
    size_index = d$size_index,
    pred_size_index = d$pred_size_index
)
# predation
m13m1.pred <- ulam(
    alist(
        S ~ dbinom(N, p),
        logit(p) <- a[tank] + b[pred_index],
        a[tank] ~ dnorm(a_bar, sigma),
        a_bar ~ dnorm(0, 1.5),
        sigma ~ dexp(1),
        b[pred_index] ~ dnorm(0, 1.5)
    ),
    data = dat,
    chains = 4,
    log_lik = TRUE
)

# size
m13m1.size <- ulam(
    alist(
        S ~ dbinom(N, p),
        logit(p) <- a[tank] + g[size_index],
        a[tank] ~ dnorm(a_bar, sigma),
        a_bar ~ dnorm(0, 1.5),
        sigma ~ dexp(1),
        g[size_index] ~ dnorm(0, 1.5)
    ),
    data = dat,
    chains = 4,
    log_lik = TRUE
)

# predation and size (no interaction)
m13m1.pred_size_no_interaction <- ulam(
    alist(
        S ~ dbinom(N, p),
        logit(p) <- a[tank] + b[pred_index] + g[size_index],
        a[tank] ~ dnorm(a_bar, sigma),
        a_bar ~ dnorm(0, 1.5),
        sigma ~ dexp(1),
        b[pred_index] ~ dnorm(0, 1.5),
        g[size_index] ~ dnorm(0, 1.5)
    ),
    data = dat,
    chains = 4,
    log_lik = TRUE
)



# predation and size (interaction)
m13m1.pred_size_interaction <- ulam(
    alist(
        S ~ dbinom(N, p),
        logit(p) <- a[tank] + b[pred_index] + g[size_index] + e[pred_size_index],
        a[tank] ~ dnorm(a_bar, sigma),
        a_bar ~ dnorm(0, 1.5),
        sigma ~ dexp(1),
        b[pred_index] ~ dnorm(0, 1.5),
        g[size_index] ~ dnorm(0, 1.5),
        e[pred_size_index] ~ dnorm(0, 1.5)
    ),
    data = dat,
    chains = 4,
    log_lik = TRUE
)


par(bg = 'white')
plot(precis(m13m1.pred, depth = 2), main = "Predation Only")


par(bg = 'white')
plot(precis(m13m1.size, depth = 2), main = "Size Only")


par(bg = 'white')
plot(precis(m13m1.pred_size_no_interaction, depth = 2), main = "Predation and Size, no Interaction")


par(bg = 'white')
plot(precis(m13m1.pred_size_interaction, depth = 2), main = "Predation and Size, with Interaction")





pred_only <- extract.samples(m13m1.pred)$sigma
size_only <- extract.samples(m13m1.size)$sigma
pred_size_no_interaction <- extract.samples(m13m1.pred_size_no_interaction)$sigma
pred_size_interaction <- extract.samples(m13m1.pred_size_interaction)$sigma

model_samples <- list(pred_only, size_only, pred_size_no_interaction, pred_size_interaction)


model_descriptions <- c("Predation Only", "Size Only", "Predation & Size (No Interaction)", "Predation & Size (Interaction)")
plot_df <- data.frame(
    model = factor(model_descriptions, levels = model_descriptions),
    mean = sapply(model_samples, mean),
    lower = sapply(model_samples, function(c) quantile(c, 0.025)),
    upper = sapply(model_samples, function(c) quantile(c, 0.975))
)
plot_df


ggplot(plot_df, aes(model)) +
    geom_pointrange(aes(y = mean, ymin = lower, ymax = upper))








compare(m13m1.pred, m13m1.size, m13m1.pred_size_no_interaction, m13m1.pred_size_interaction, func = WAIC)








m13m1.1.cauchy.1 <- ulam(
    alist(
        S ~ dbinom(N, p),
        logit(p) <- a[tank],
        a[tank] ~ dcauchy(a_bar, sigma),
        a_bar ~ dnorm(0, 1),
        sigma ~ dexp(1)
    ),
    data = dat,
    chains = 4,
    log_lik = TRUE
)


par(bg = 'white')
plot(precis(m13m1.1.cauchy.1, depth = 2))





m13m1.1.cauchy.2 <- ulam(
    alist(
        S ~ dbinom(N, p),
        logit(p) <- a[tank],
        a[tank] ~ dcauchy(a_bar, sigma),
        a_bar ~ dnorm(0, 1),
        sigma ~ dexp(1)
    ),
    data = dat,
    chains = 4,
    log_lik = TRUE,
    control = list(adapt_delta = 0.99)
)





par(bg = 'white')
plot(precis(m13m1.1.cauchy.2, depth = 2))


m13m1.1.cauchy.3 <- ulam(
    alist(
        S ~ dbinom(N, p),
        logit(p) <- a_bar + sigma * z[tank],
        # a[tank] ~ dcauchy(a_bar, sigma),
        # a[tank] <- a_bar + sigma * z[tank],
        z[tank] ~ dcauchy(0, 1),
        a_bar ~ dnorm(0, 1),
        sigma ~ dexp(1)
    ),
    data = dat,
    chains = 4,
    log_lik = TRUE,
    # control = list(adapt_delta = 0.99)
)





base_model_samples <- extract.samples(m13m1.1)
centred_cauchy_samples <- extract.samples(m13m1.1.cauchy.3)


# NB we don't have an a[tank] parameter in the cauchy model, so we have to recreate it. The variable a[tank] would be logit(p), so that's what we'll do from the samples
cauchy_a_tank <- logit(centred_cauchy_samples$p)
head(cauchy_a_tank)


base_means <- apply(base_model_samples$a, 2, mean)
base_ci <- apply(base_model_samples$a, 2, PI)
cauchy_means <- apply(cauchy_a_tank, 2, mean)
cauchy_ci <- apply(cauchy_a_tank, 2, PI)

plot_df <- data.frame(
    tank = rep(d$tank, 2),
    mean = c(base_means, cauchy_means),
    lower = c(base_ci[1, ], cauchy_ci[1, ]),
    upper = c(base_ci[2, ], cauchy_ci[2, ]),
    model = c(rep("Gaussian", length(d$tank)), rep("Cauchy", length(d$tank)))
)
ggplot(plot_df, aes(tank, group = model, colour = model)) +
    geom_pointrange(aes(y = mean, ymin = lower, ymax = upper), position = position_dodge(width = 0.5))





plot_df <- data.frame(
    gaussian_a = base_means,
    cauchy_a = cauchy_means,
    tank = d$tank
)
ggplot(plot_df, aes(gaussian_a, cauchy_a)) +
    geom_point() +
    coord_cartesian(ylim = c(-2.5, 10))





cauchy_means





plot_df <- data.frame(
    mean = c(mean(base_model_samples$a_bar), mean(centred_cauchy_samples$a_bar)),
    lower = c(PI(base_model_samples$a_bar)[1], PI(centred_cauchy_samples$a_bar)[1]),
    upper = c(PI(base_model_samples$a_bar)[2], PI(centred_cauchy_samples$a_bar)[2]),
    model = c("Gaussian", "Cauchy")
)
ggplot(plot_df, aes(model)) +
    geom_pointrange(aes(y = mean, ymin = lower, ymax = upper))








m13m3.student <- ulam(
    alist(
        S ~ dbinom(N, p),
        logit(p) <- a[tank],
        a[tank] ~ dstudent(2, a_bar, sigma),
        a_bar ~ dnorm(0, 1),
        sigma ~ dexp(1)
    ),
    data = dat,
    chains = 4,
    log_lik = TRUE,
)


# campare the a_tank between the different models

student_model_samples <- extract.samples(m13m3.student)

base_means <- apply(base_model_samples$a, 2, mean)
base_ci <- apply(base_model_samples$a, 2, PI)
cauchy_means <- apply(cauchy_a_tank, 2, mean)
cauchy_ci <- apply(cauchy_a_tank, 2, PI)
student_means <- apply(student_model_samples$a, 2, mean)
student_ci <- apply(student_model_samples$a, 2, PI)

student_a_bar <- apply(student_model_samples$a_bar, 2, mean)

plot_df <- data.frame(
    tank = rep(d$tank, 3),
    mean = c(base_means, cauchy_means, student_means),
    lower = c(base_ci[1, ], cauchy_ci[1, ], student_ci[1, ]),
    upper = c(base_ci[2, ], cauchy_ci[2, ], student_ci[2, ]),
    model = rep(c("Gaussian", "Cauchy", "Student-t"), each = length(d$tank))
)
ggplot(plot_df, aes(tank, group = model, colour = model)) +
    geom_pointrange(aes(y = mean, ymin = lower, ymax = upper), position = position_dodge(width = 0.5)) +
    geom_hline(aes(yintercept = student_a_bar), linetype = 'dashed') +
    annotate('label', x = 45, y = student_a_bar + 0.5, label = "bar(alpha)", parse = TRUE)





data(chimpanzees)
d <- chimpanzees
d$treatment <- 1 + d$prosoc_left + 2 * d$condition

dat_list <- list(
    pulled_left = d$pulled_left,
    actor = d$actor,
    block_id = d$block,
    treatment = as.integer(d$treatment)
)

set.seed(13)
m13m5 <- ulam(
    alist(
        pulled_left ~ dbinom(1, p),
        logit(p) <- a[actor] + g[block_id] + b[treatment],
        b[treatment] ~ dnorm(0, 0.5),
        # adaptive priors
        a[actor] ~ dnorm(a_bar, sigma_a),
        g[block_id] ~ dnorm(sigma_bar, sigma_g),
        # hyper priors
        a_bar ~ dnorm(0, 1.5),
        sigma_bar ~ dnorm(0, 1.5),
        sigma_a ~ dexp(1),
        sigma_g ~ dexp(1)
    ),
    data = dat_list,
    chains = 4,
    cores = 4,
    log_lik = TRUE,
    control = list(adapt_delta = 0.99)
)


par(bg = 'white')
plot(precis(m13.4, depth = 2))
plot(precis(m13m5, depth = 2))


compare(m13.4, m13m5)





data <- list(y = array(0, dim = 1))
m13m6.nn <- ulam(
    alist(
        y ~ dnorm(mu, 1),
        mu ~ dnorm(10, 1)
    ),
    data = data
    # log_lik = TRUE # this causes a failure with a warning about the dimensions - looks like it's treating the input as a real when it should be a vector
)
m13m6.tn <- ulam(
    alist(
        y ~ dstudent(2, mu, 1),
        mu ~ dnorm(10, 1)
    ),
    data = data
    # log_lik = TRUE # this causes a failure with a warning about the dimensions - looks like it's treating the input as a real when it should be a vector
)
m13m6.nt <- ulam(
    alist(
        y ~ dnorm(mu, 1),
        mu ~ dstudent(2, 10, 1)
    ),
    data = data
    # log_lik = TRUE # this causes a failure with a warning about the dimensions - looks like it's treating the input as a real when it should be a vector
)
m13m6.tt <- ulam(
    alist(
        y ~ dstudent(2, mu, 1),
        mu ~ dstudent(2, 10, 1)
    ),
    data = data
    # log_lik = TRUE # this causes a failure with a warning about the dimensions - looks like it's treating the input as a real when it should be a vector
)


nn.samples.mu <- extract.samples(m13m6.nn)$mu
nt.samples.mu <- extract.samples(m13m6.nt)$mu
tn.samples.mu <- extract.samples(m13m6.tn)$mu
tt.samples.mu <- extract.samples(m13m6.tt)$mu

nn.samples.y <- rnorm(length(nn.samples.mu), nn.samples.mu, 1)
nt.samples.y <- rnorm(length(nt.samples.mu), nt.samples.mu, 1)
tn.samples.y <- rstudent(length(tn.samples.mu), 2, tn.samples.mu, 1)
tt.samples.y <- rstudent(length(tt.samples.mu), 2, tt.samples.mu, 1)

plot_df <- rbind(
    data.frame(y = nn.samples.y, model = "nn"),
    data.frame(y = nt.samples.y, model = "nt"),
    data.frame(y = tn.samples.y, model = "tn"),
    data.frame(y = tt.samples.y, model = "tt")
)
ggplot(plot_df, aes(group = model, colour = model)) +
    geom_density(aes(y))








data(bangladesh)
d <- bangladesh
head(d)


sort(unique(d$district))





d$district_id <- as.integer(as.factor(d$district))
sort(unique(d$district_id))








plot_df <- aggregate(use.contraception ~ district_id, data = d, FUN = mean)
names(plot_df)[names(plot_df) == 'use.contraception'] <- 'prop'
# plot_df <- data.frame(
#     district_id = d$district_id,
#     prop = sapply(d$district_id, function(district_id) {
#         subset <- d[d$district_id == district_id, ]
#         sum(subset$use.contraception) / nrow(subset)
#     })
# )
head(plot_df)


ggplot(plot_df, aes(district_id, prop)) +
    geom_bar(stat = 'identity')


ggplot(plot_df, aes(prop)) +
    geom_density()





inv_logit(0.5)


districts <- sort(unique(d$district_id))
data <- data.frame(
    district_index = districts,
    n = sapply(districts, function (district_id) {nrow(d[d$district_id == district_id & d$use.contraception == 1, ])}), # number that use contraception
    N = sapply(districts, function(district_id) {nrow(d[d$district_id == district_id, ])})# total number
)
# first the fixed-effects model
m13h1.fixed <- ulam(
    alist(
        n ~ dbinom(N, p),
        logit(p) <- alpha[district_index],
        alpha[district_index] ~ dnorm(0.622, 1)
    ),
    data = data,
    chains = 4,
    log_lik = TRUE
)

# now the varying-effects model
m13h1.varying <- ulam(
    alist(
        n ~ dbinom(N, p),
        logit(p) <- alpha[district_index],
        alpha[district_index] ~ dnorm(alpha_bar, sigma),
        alpha_bar ~ dnorm(0.622, 1.5),
        sigma ~ dexp(1)
    ),
    data = data,
    chains = 4,
    log_lik = TRUE
)


fixed.samples.p <- extract.samples(m13h1.fixed)$p
varying.samples <- extract.samples(m13h1.varying)
varying.samples.p <- varying.samples$p

fixed.means <- apply(fixed.samples.p, 2, mean)
fixed.ci <- apply(fixed.samples.p, 2, PI)
varying.means <- apply(varying.samples.p, 2, mean)
varying.ci <- apply(varying.samples.p, 2, PI)

plot_df <- data.frame(
    district_id = districts,
    true_p = data$n / data$N,
    N = data$N,
    fixed_mean = fixed.means,
    fixed_lower = fixed.ci[1, ],
    fixed_upper = fixed.ci[2, ],
    varying_mean = varying.means,
    varying_lower = varying.ci[1, ],
    varying_upper = varying.ci[2, ]
)

ggplot(plot_df, aes(district_id, group = district_id)) +
    geom_point(aes(y = true_p, colour = "Empirical", size = N)) +
    geom_point(aes(y = fixed_mean, colour = "Fixed", size = N), position = position_jitter(width = 0.3)) +
    geom_point(aes(y = varying_mean, colour = "Varying", size = N), position = position_jitter(width = -0.3)) +
    geom_hline(aes(yintercept = mean(inv_logit(varying.samples$alpha_bar))), linetype = 'dashed') 
    





ordered_by_p <- plot_df[order(plot_df$true_p), ]
ordered_by_p$district_id <- as.character(ordered_by_p$district_id)
district_levels <- unique(ordered_by_p$district_id)
ordered_by_p$district_id <- factor(ordered_by_p$district_id, levels = district_levels)

ggplot(ordered_by_p, aes(district_id, group = district_id)) +
    geom_point(aes(y = true_p, colour = "Empirical", size = N)) +
    geom_point(aes(y = fixed_mean, colour = "Fixed", size = N), position = position_jitter(width = 0.3)) +
    geom_point(aes(y = varying_mean, colour = "Varying", size = N), position = position_jitter(width = -0.3)) +
    geom_hline(aes(yintercept = mean(inv_logit(varying.samples$alpha_bar))), linetype = 'dashed') 








data(Trolley)
d <- Trolley
head(d)


# This is the model from Chapter 12

data <- list(
    R = d$response,
    A = d$action,
    I = d$intention,
    C = d$contact
)

m13h2.fixed <- ulam(
    alist(
        R ~ dordlogit(phi, cutpoints),
        phi <- bA * A + bC * C + BI * I,
        BI <- bI + bIA * A + bIC * C,
        c(bA, bI, bC, bIA, bIC) ~ dnorm(0, 0.5),
        cutpoints ~ dnorm(0, 1.5)
    ),
    data = data,
    chains = 4,
    cores = 4,
    log_lik = TRUE
)


precis(m13h2.fixed, depth = 2)


# now we add in a new varying intercept
# first we need to convert the id into an index
d$user_index <- as.integer(factor(d$id, levels = unique(d$id)))
d$user_index



data <- list(
    R = d$response,
    A = d$action,
    I = d$intention,
    C = d$contact,
    user_index = d$user_index
)

m13h2.varying <- ulam(
    alist(
        R ~ dordlogit(phi, cutpoints),
        phi <- a[user_index] + bA * A + bC * C + BI * I,
        a[user_index] ~ dnorm(0, sigma_id),
        BI <- bI + bIA * A + bIC * C,
        c(bA, bI, bC, bIA, bIC) ~ dnorm(0, 0.5),
        cutpoints ~ dnorm(0, 1.5),
        sigma_id ~ dexp(1)
    ),
    data = data,
    chains = 4,
    cores = 4,
    log_lik = TRUE
)


pars <- c("bA", "bC", "bI")
print(precis(m13h2.fixed, depth = 2, pars = pars))
print(precis(m13h2.varying, depth = 2, pars = pars))





# TODO re-run the earlier models with log_lik = TRUE and then compare here
compare(m13h2.fixed, m13h2.varying)








data <- list(
    R = d$response,
    A = d$action,
    I = d$intention,
    C = d$contact,
    user_index = d$user_index,
    story_index = as.integer(factor(d$story, levels = unique(d$story)))
)


# cross-classified model including the story
m13h3.varying <- ulam(
    alist(
        R ~ dordlogit(phi, cutpoints),
        phi <- a[user_index] + s[story_index] + bA * A + bC * C + BI * I,
        a[user_index] ~ dnorm(0, sigma_id),
        s[story_index] ~ dnorm(0, sigma_story),
        BI <- bI + bIA * A + bIC * C,
        c(bA, bI, bC, bIA, bIC) ~ dnorm(0, 0.5),
        cutpoints ~ dnorm(0, 1.5),
        sigma_id ~ dexp(1),
        sigma_story ~ dexp(1)
    ),
    data = data,
    chains = 4,
    cores = 4,
    log_lik = TRUE
)



params <- c("bC", "bI", "bA", "sigma_id", "sigma_story")
plot(coeftab(m13h2.fixed, m13h2.varying, m13h3.varying), pars = params)


compare(m13h2.fixed, m13h2.varying, m13h3.varying)





# let's take a look at the different sigmas
samples <- extract.samples(m13h3.varying)


plot_df <- rbind(
    data.frame(x = samples$sigma_id, type = "Person"),
    data.frame(x = samples$sigma_story, type = "Story")
)

ggplot(plot_df, aes(x, colour = type)) +
    geom_density()








data(reedfrogs)
d <- reedfrogs
d$tank <- 1:nrow(d)
d$pred_index <- ifelse(d$pred == 'no', 1L, 2L)
d$size_index <- ifelse(d$size == 'small', 1L, 2L)
d$pred_size_index <- 2 * (d$pred_index - 1) + (d$size_index - 1) + 1

data <- list(
    S = d$surv,
    N = d$density,
    tank = d$tank,
    pred_index = d$pred_index,
    size_index = d$size_index,
    pred_size_index = d$pred_size_index
)


m13h4.base <- ulam(
    alist(
        S ~ dbinom(N, p),
        logit(p) <- a[tank],
        a[tank] ~ dnorm(a_bar, sigma),
        a_bar ~ dnorm(0, 1.5),
        sigma ~ dexp(1)
    ),
    data = data,
    chains = 4,
    log_lik = TRUE
)

# predation
m13h4.pred <- ulam(
    alist(
        S ~ dbinom(N, p),
        logit(p) <- a[tank] + b[pred_index],
        a[tank] ~ dnorm(a_bar, sigma),
        a_bar ~ dnorm(0, 1.5),
        sigma ~ dexp(1),
        b[pred_index] ~ dnorm(0, 1.5)
    ),
    data = data,
    chains = 4,
    log_lik = TRUE
)

# size
m13h4.size <- ulam(
    alist(
        S ~ dbinom(N, p),
        logit(p) <- a[tank] + g[size_index],
        a[tank] ~ dnorm(a_bar, sigma),
        a_bar ~ dnorm(0, 1.5),
        sigma ~ dexp(1),
        g[size_index] ~ dnorm(0, 1.5)
    ),
    data = data,
    chains = 4,
    log_lik = TRUE
)

# predation and size (no interaction)
m13h4.pred_size_no_interaction <- ulam(
    alist(
        S ~ dbinom(N, p),
        logit(p) <- a[tank] + b[pred_index] + g[size_index],
        a[tank] ~ dnorm(a_bar, sigma),
        a_bar ~ dnorm(0, 1.5),
        sigma ~ dexp(1),
        b[pred_index] ~ dnorm(0, 1.5),
        g[size_index] ~ dnorm(0, 1.5)
    ),
    data = data,
    chains = 4,
    log_lik = TRUE
)

# predation and size (interaction)
m13h4.pred_size_interaction <- ulam(
    alist(
        S ~ dbinom(N, p),
        logit(p) <- a[tank] + b[pred_index] + g[size_index] + e[pred_size_index],
        a[tank] ~ dnorm(a_bar, sigma),
        a_bar ~ dnorm(0, 1.5),
        sigma ~ dexp(1),
        b[pred_index] ~ dnorm(0, 1.5),
        g[size_index] ~ dnorm(0, 1.5),
        e[pred_size_index] ~ dnorm(0, 1.5)
    ),
    data = data,
    chains = 4,
    log_lik = TRUE
)



par(bg = 'white')
params <- c('sigma')
plot(coeftab(m13h4.base, m13h4.pred, m13h4.size, m13h4.pred_size_no_interaction, m13h4.pred_size_interaction), pars = params)


compare(m13h4.base, m13h4.pred, m13h4.size, m13h4.pred_size_no_interaction, m13h4.pred_size_interaction)


par(bg = 'white')
params <- c('b[1]', 'b[2]', 'g[1]', 'g[2]')
plot(coeftab(m13h4.base, m13h4.pred, m13h4.size, m13h4.pred_size_no_interaction, m13h4.pred_size_interaction), pars = params)



