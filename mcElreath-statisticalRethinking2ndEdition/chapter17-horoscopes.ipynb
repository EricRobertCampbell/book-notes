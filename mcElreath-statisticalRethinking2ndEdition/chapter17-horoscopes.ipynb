{
 "cells": [
  {
   "cell_type": "markdown",
   "id": "6f58d2d1",
   "metadata": {},
   "source": [
    "# Chapter 17 - Horoscopes\n",
    "\n",
    "Statistics can look like horoscopes - people want the answer (not being told that the answer can't be found in the data).\n",
    "\n",
    "This matters because statistical findings are used in the real world, and these being incorrect leads to lots of wasted time and effort.\n",
    "\n",
    "Lots of ways to improve the scientific process."
   ]
  }
 ],
 "metadata": {
  "language_info": {
   "name": "python"
  }
 },
 "nbformat": 4,
 "nbformat_minor": 5
}
